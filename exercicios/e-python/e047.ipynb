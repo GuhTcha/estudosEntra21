{
 "cells": [
  {
   "cell_type": "markdown",
   "metadata": {},
   "source": [
    "47. Crie um programa que recebe dados de um aluno como nome e suas notas em supostos 3 trimestres de aula, retornando um novo dicionario como o nome do aluno e a média de suas notas"
   ]
  },
  {
   "cell_type": "code",
   "execution_count": 1,
   "metadata": {},
   "outputs": [
    {
     "name": "stdout",
     "output_type": "stream",
     "text": [
      "Fase2:------------\n",
      "Aluno --> Adriano\n",
      "Notas: [10.7, 20.9, 40.2]\n",
      "[{'Nome': 'Adriano', 'Media das notas': 23.93}]\n"
     ]
    }
   ],
   "source": [
    "def calcula_media(aluno):\n",
    "    print(\"Fase2:------------\")\n",
    "    boletim = []\n",
    "    for media in aluno:\n",
    "        print(f\"Aluno --> {media['Nome']}\")        \n",
    "        temp = round(sum(media['Notas'])/len(media['Notas']),2)\n",
    "        print(f\"Notas: {media['Notas']}\")\n",
    "\n",
    "    boletim.append({'Nome':media['Nome'],'Media das notas': temp})\n",
    "    print (boletim)\n",
    "\n",
    "\n",
    "aluno = [{\n",
    "    'Nome': 'Adriano', \n",
    "    'Notas': [10.7,20.9,40.2]    \n",
    "    }]\n",
    "\n",
    "\n",
    "media_estudante = calcula_media(aluno)"
   ]
  },
  {
   "cell_type": "markdown",
   "metadata": {},
   "source": [
    "versão 2\n"
   ]
  },
  {
   "cell_type": "code",
   "execution_count": null,
   "metadata": {},
   "outputs": [],
   "source": [
    "def funcao1(num):    \n",
    "     return num **2\n",
    "\n",
    "num = int(input('Digite um numero:'))\n",
    "retorno = funcao1(num)\n",
    "print(retorno)"
   ]
  },
  {
   "cell_type": "markdown",
   "metadata": {},
   "source": [
    "teste"
   ]
  },
  {
   "cell_type": "code",
   "execution_count": 2,
   "metadata": {},
   "outputs": [
    {
     "name": "stdout",
     "output_type": "stream",
     "text": [
      "{'faltas': ['12'], 'notas': ['10', '20', '30']}\n",
      "<class 'dict'>\n",
      "['12']\n",
      "<class 'list'>\n",
      "['10', '20', '30']\n",
      "<class 'list'>\n",
      "10\n",
      "20\n",
      "30\n",
      "10\n",
      "20\n",
      "30\n"
     ]
    }
   ],
   "source": [
    "data = {\n",
    "    'faltas' : [],\n",
    "    'notas': []\n",
    "}\n",
    "data['notas'].append('10')\n",
    "data['notas'].append('20')\n",
    "data['notas'].append('30')\n",
    "data['faltas'].append('12')\n",
    "print(data)\n",
    "print(type(data))\n",
    "print(data['faltas'])\n",
    "print(type(data['faltas']))\n",
    "print(data['notas'])\n",
    "print(type(data['notas']))\n",
    "\n",
    "n = data['notas']\n",
    "\n",
    "for i in range(0,len(n),1):\n",
    "    print(n[i])\n",
    "\n",
    "for i in n:\n",
    "    print(i)"
   ]
  },
  {
   "cell_type": "markdown",
   "metadata": {},
   "source": [
    "versao penultima\n"
   ]
  },
  {
   "cell_type": "code",
   "execution_count": null,
   "metadata": {},
   "outputs": [],
   "source": [
    "# e047d.py\n",
    "aluno = [{\n",
    "    'Nome': 'Adriano', \n",
    "    'Notas': [70.7,80.9,90.2]    \n",
    "    }]\n",
    "\n",
    "for i in aluno:    \n",
    "    print(f\"Aluno xxx {i['Nome']}\")\n",
    "    print(f\"Notas xxx {i['Notas']}\")\n",
    "    soma = sum(i['Notas'])\n",
    "    print(f'Soma  xxx {soma}')\n",
    "    qtditens = len(i['Notas'])\n",
    "    print(f'Itesm xxx {qtditens}')\n",
    "    media = soma/qtditens\n",
    "    print(f'Media xxx {media}')\n",
    "    media_arredondada = round(media,1)\n",
    "    print(f'Media arr {media_arredondada}')\n",
    "    boletim = []\n",
    "    boletim.append({'Nome':i['Nome'],'Media das notas': media_arredondada})\n",
    "    print(boletim)"
   ]
  },
  {
   "cell_type": "markdown",
   "metadata": {},
   "source": [
    "versao ultima\n"
   ]
  },
  {
   "cell_type": "code",
   "execution_count": 3,
   "metadata": {},
   "outputs": [
    {
     "name": "stdout",
     "output_type": "stream",
     "text": [
      "[{'Nome': 'Adriano', 'Media das notas': 80.6}]\n"
     ]
    }
   ],
   "source": [
    "def calcula_media(aluno):\n",
    "    boletim = []\n",
    "    for i in aluno:        \n",
    "        mr = round(sum(i['Notas'])/len(i['Notas']), 1)\n",
    "        boletim.append({'Nome': i['Nome'], 'Media das notas': mr})\n",
    "    return boletim\n",
    "\n",
    "aluno = [{\n",
    "    'Nome': 'Adriano',\n",
    "    'Notas': [70.7, 80.9, 90.2]\n",
    "}]\n",
    "\n",
    "bl = (calcula_media(aluno))\n",
    "print(bl)\n"
   ]
  }
 ],
 "metadata": {
  "interpreter": {
   "hash": "916dbcbb3f70747c44a77c7bcd40155683ae19c65e1c03b4aa3499c5328201f1"
  },
  "kernelspec": {
   "display_name": "Python 3.8.10 64-bit",
   "language": "python",
   "name": "python3"
  },
  "language_info": {
   "codemirror_mode": {
    "name": "ipython",
    "version": 3
   },
   "file_extension": ".py",
   "mimetype": "text/x-python",
   "name": "python",
   "nbconvert_exporter": "python",
   "pygments_lexer": "ipython3",
   "version": "3.8.10"
  },
  "orig_nbformat": 4
 },
 "nbformat": 4,
 "nbformat_minor": 2
}
